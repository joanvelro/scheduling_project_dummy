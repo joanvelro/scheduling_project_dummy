{
 "cells": [
  {
   "cell_type": "markdown",
   "id": "9e96a625",
   "metadata": {},
   "source": [
    "## Como incluir en el modelo limpiezas en el cambio de producto\n",
    "\n",
    "* Asignar un índice $m$ a cada producto donde $m$ va de $1$ hasta $N$\n",
    "\n",
    "* Para cada producto el pedido es de $C_m$ batches y el total de batches $T$ es $\\sum_{m} C_m$\n",
    "\n",
    "* Asignar a cada batch $i \\in \\{1,\\ldots,Tf\\}$ su tipo de producto mediante una variable $p_i$ que pueda tomar los valores de $m$ imponiendo:\n",
    "\n",
    "$$\n",
    "\\sum_{i} p_i = \\sum_{m} m \\cdot C_m \n",
    "$$\n",
    "\n",
    "* Comprobar si hay cambio de producto mediante una variable binaria $c_i$ que cumpla:\n",
    "$$\n",
    "p_i + p_{i-1} \\in \\{2m\\} \\text{ entonces $c_i = 0$}\n",
    "$$\n",
    "$$\n",
    "p_i + p_{i-1} \\notin \\{2m\\} \\text{ entonces $c_i = 1$}\n",
    "$$\n",
    "\n",
    "El problema es que creo que esta última restricción una vez linearizada escala fatal porque hay que hacer $m$ comprobaciones de igualdad y unir cada una de estas con un OR por cada $i$ del número de batches.\n",
    "\n",
    "## Actualmente esto esta mal, pi = 1 + pi = 3 pertenece a 2m"
   ]
  }
 ],
 "metadata": {
  "kernelspec": {
   "display_name": "Python 3 (ipykernel)",
   "language": "python",
   "name": "python3"
  },
  "language_info": {
   "codemirror_mode": {
    "name": "ipython",
    "version": 3
   },
   "file_extension": ".py",
   "mimetype": "text/x-python",
   "name": "python",
   "nbconvert_exporter": "python",
   "pygments_lexer": "ipython3",
   "version": "3.9.0"
  }
 },
 "nbformat": 4,
 "nbformat_minor": 5
}
